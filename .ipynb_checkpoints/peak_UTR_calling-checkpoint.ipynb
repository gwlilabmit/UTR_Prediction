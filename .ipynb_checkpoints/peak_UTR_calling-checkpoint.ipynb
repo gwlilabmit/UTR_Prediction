{
 "cells": [
  {
   "cell_type": "markdown",
   "id": "63b45374",
   "metadata": {},
   "source": [
    "# 3'-UTR Calling in _B. subtilis_\n",
    "\n",
    "Date: 19 June 2022\n",
    "\n",
    "Author: Julian Stanley\n",
    "\n",
    "Purpose: Use Rend-seq data to determine the location and sequences of putative 3'-UTRs in WT _Bacillus subtilis_ in exponential growth.\n",
    "\n",
    "Tools: I'll use [`rendseq`](https://github.com/miraep8/rendseq) from Mirae on Rend-seq data that Jean produced. I'll cross-reference that with predicted terminators from [Jean's prediction pipeline](https://github.com/jblalanne/intrinsic_trx_terminator_identifier). I'll then use [igv-notebook](https://github.com/igvteam/igv-notebook) to visualize results."
   ]
  },
  {
   "cell_type": "markdown",
   "id": "9eb2432d",
   "metadata": {},
   "source": [
    "## Peak calling\n",
    "\n",
    "First, we'll use Mirae's rendseq package to assign z_scores to each point in the rend-seq data and set a z-score threshold to classify peaks.\n",
    "\n",
    "We're using rend-seq 170810, from WT B. subtilis in LB, with 1:1 cold methanol and extracted with RNeasy. \n",
    "\n",
    "We'll re-run the exact same analysis with the samples extracted from RNA Snap and compare results"
   ]
  },
  {
   "cell_type": "code",
   "execution_count": 1,
   "id": "01a8f4e0",
   "metadata": {},
   "outputs": [],
   "source": [
    "from rendseq.file_funcs import open_wig\n",
    "from rendseq.zscores import z_scores\n",
    "from rendseq.make_peaks import hmm_peaks, thresh_peaks\n",
    "from matplotlib import pyplot as plt\n",
    "%matplotlib inline"
   ]
  },
  {
   "cell_type": "markdown",
   "id": "a0800140",
   "metadata": {},
   "source": [
    "RNeasy samples:"
   ]
  },
  {
   "cell_type": "code",
   "execution_count": null,
   "id": "d9eb4596",
   "metadata": {},
   "outputs": [
    {
     "name": "stdout",
     "output_type": "stream",
     "text": [
      "Working with reads: 3f from ./wigs/170810Li_168_rend_tot_rneasy_3_f.wig\n",
      "Working with reads: 3r from ./wigs/170810Li_168_rend_tot_rneasy_3_r.wig\n",
      "Working with reads: 5f from ./wigs/170810Li_168_rend_tot_rneasy_5_f.wig\n",
      "Working with reads: 5r from ./wigs/170810Li_168_rend_tot_rneasy_5_r.wig\n"
     ]
    }
   ],
   "source": [
    "wig_paths = {'3f': './wigs/170810Li_168_rend_tot_rneasy_3_f.wig',\n",
    "             '3r': './wigs/170810Li_168_rend_tot_rneasy_3_r.wig',\n",
    "             '5f': './wigs/170810Li_168_rend_tot_rneasy_5_f.wig',\n",
    "             '5r': './wigs/170810Li_168_rend_tot_rneasy_5_r.wig'}\n",
    "\n",
    "scores_peaks = {'3f': {},\n",
    "                '3r' : {},\n",
    "                '5f': {},\n",
    "                '5r': {}}\n",
    "\n",
    "for read_type, wig_path in wig_paths.items():\n",
    "    reads, chrom = open_wig(wig_path)\n",
    "    print(f\"Working with reads: {read_type} from {wig_path}\")\n",
    "    \n",
    "    plt.figure()\n",
    "    plt.title(f\"{read_type}\")\n",
    "\n",
    "    z_score_transformed_data = z_scores(reads)\n",
    "    thresh_peaks_found = thresh_peaks(z_score_transformed_data)\n",
    "    \n",
    "    scores_peaks[read_type]['z_scores'] = z_score_transformed_data\n",
    "    scores_peaks[read_type]['peaks'] = thresh_peaks_found"
   ]
  },
  {
   "cell_type": "markdown",
   "id": "3d9f792c",
   "metadata": {},
   "source": [
    "RNA Snap samples:"
   ]
  },
  {
   "cell_type": "code",
   "execution_count": null,
   "id": "9f73017c",
   "metadata": {},
   "outputs": [],
   "source": [
    "wig_paths_snap = {'3f': './wigs/170810Li_168_rend_tot_snap_3_f.wig',\n",
    "             '3r': './wigs/170810Li_168_rend_tot_snap_3_r.wig',\n",
    "             '5f': './wigs/170810Li_168_rend_tot_snap_5_f.wig',\n",
    "             '5r': './wigs/170810Li_168_rend_tot_snap_5_r.wig'}\n",
    "\n",
    "scores_peaks_snap = {'3f': {},\n",
    "                '3r' : {},\n",
    "                '5f': {},\n",
    "                '5r': {}}\n",
    "\n",
    "for read_type, wig_path in wig_paths_snap.items():\n",
    "    reads, chrom = open_wig(wig_path)\n",
    "    print(f\"Working with reads: {read_type} from {wig_path}\")\n",
    "    \n",
    "    plt.figure()\n",
    "    plt.title(f\"{read_type}\")\n",
    "\n",
    "    z_score_transformed_data = z_scores(reads)\n",
    "    thresh_peaks_found = thresh_peaks(z_score_transformed_data)\n",
    "    \n",
    "    scores_peaks_snap[read_type]['z_scores'] = z_score_transformed_data\n",
    "    scores_peaks_snap[read_type]['peaks'] = thresh_peaks_found"
   ]
  },
  {
   "cell_type": "markdown",
   "id": "b67cf20e",
   "metadata": {},
   "source": [
    "# Converting "
   ]
  }
 ],
 "metadata": {
  "kernelspec": {
   "display_name": "Python 3 (ipykernel)",
   "language": "python",
   "name": "python3"
  },
  "language_info": {
   "codemirror_mode": {
    "name": "ipython",
    "version": 3
   },
   "file_extension": ".py",
   "mimetype": "text/x-python",
   "name": "python",
   "nbconvert_exporter": "python",
   "pygments_lexer": "ipython3",
   "version": "3.9.12"
  }
 },
 "nbformat": 4,
 "nbformat_minor": 5
}
